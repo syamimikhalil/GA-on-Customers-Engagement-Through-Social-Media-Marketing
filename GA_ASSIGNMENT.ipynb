{
 "cells": [
  {
   "cell_type": "code",
   "execution_count": 1,
   "metadata": {},
   "outputs": [],
   "source": [
    "import numpy as np\n",
    "import random as random\n",
    "import pandas as pd\n",
    "from numpy.random import randint"
   ]
  },
  {
   "cell_type": "code",
   "execution_count": 2,
   "metadata": {},
   "outputs": [],
   "source": [
    "#chromosomes\n",
    "\n",
    "staff_planning = [\n",
    "    [[0, 0, 10],[1, 0, 10],[2, 0, 10],[3, 0, 10],[4, 0, 10],[5, 0, 10],[6, 0, 10],[7, 0, 10],[8, 0, 10],[9, 0, 10],[10, 0, 10]],\n",
    "    [[0, 0, 10],[1, 0, 10],[2, 0, 10],[3, 0, 10],[4, 0, 10],[5, 0, 10],[6, 0, 10],[7, 0, 10],[8, 0, 10],[9, 0, 10],[10, 0, 10]],\n",
    "    [[0, 0, 10],[1, 0, 10],[2, 0, 10],[3, 0, 10],[4, 0, 10],[5, 0, 10],[6, 0, 10],[7, 0, 10],[8, 0, 10],[9, 0, 10],[10, 0, 10]],\n",
    "    [[0, 0, 10],[1, 0, 10],[2, 0, 10],[3, 0, 10],[4, 0, 10],[5, 0, 10],[6, 0, 10],[7, 0, 10],[8, 0, 10],[9, 0, 10],[10, 0, 10]],\n",
    "    [[0, 0, 10],[1, 0, 10],[2, 0, 10],[3, 0, 10],[4, 0, 10],[5, 0, 10],[6, 0, 10],[7, 0, 10],[8, 0, 10],[9, 0, 10],[10, 0, 10]]\n",
    "]\n",
    "\n",
    "\n",
    "hourlystaff_needed = np.array([\n",
    "    [0, 0, 0, 0, 0, 0, 4, 4, 4, 2, 2, 2, 6, 6, 2, 2, 2, 6, 6, 6, 2, 2, 2, 2],\n",
    "    [0, 0, 0, 0, 0, 0, 4, 4, 4, 2, 2, 2, 6, 6, 2, 2, 2, 6, 6, 6, 2, 2, 2, 2],\n",
    "    [0, 0, 0, 0, 0, 0, 4, 4, 4, 2, 2, 2, 6, 6, 2, 2, 2, 6, 6, 6, 2, 2, 2, 2],\n",
    "    [0, 0, 0, 0, 0, 0, 4, 4, 4, 2, 2, 2, 6, 6, 2, 2, 2, 6, 6, 6, 2, 2, 2, 2],\n",
    "    [0, 0, 0, 0, 0, 0, 4, 4, 4, 2, 2, 2, 6, 6, 2, 2, 2, 6, 6, 6, 2, 2, 2, 2]\n",
    "])"
   ]
  },
  {
   "cell_type": "code",
   "execution_count": 3,
   "metadata": {},
   "outputs": [],
   "source": [
    "\"\"\"\n",
    "Employee Present: analyse whether the employee is present yes or no on a given time.\n",
    "Based on the employee list of 3 (id, start time, duration)\n",
    "\"\"\"\n",
    "\n",
    "def employee_present(employee, time):\n",
    "    employee_start_time = employee[1]\n",
    "    employee_duration = employee[2]\n",
    "    employee_end_time = employee_start_time + employee_duration\n",
    "    if(time >= employee_start_time) and (time < employee_end_time):\n",
    "        return True\n",
    "    return False\n",
    "\n",
    "\n",
    "\"\"\"\n",
    "convert a staff planning to a staff-needed plannig\n",
    "The employee planning is organised per employee, the staff-needed planning is the number of employees working per hour\n",
    "The staff-needed planning is based on the employee planning and will allow to calculate the difference with the staff-needed\n",
    "It doesnt work overnight, but our shop isnt open at night anyway\n",
    "\"\"\"\n",
    "\n",
    "def staffplanning_to_hourlyplanning(staff_planning):\n",
    "    hourlystaff_week = []\n",
    "    \n",
    "    for day in staff_planning:\n",
    "        hourlystaff_day = []\n",
    "        \n",
    "        for employee in day: \n",
    "            employee_present_hour = []\n",
    "            \n",
    "            for time in range(0, 24):\n",
    "                employee_present_hour.append(employee_present(employee, time))\n",
    "                \n",
    "            hourlystaff_day.append(employee_present_hour)\n",
    "        \n",
    "        hourlystaff_week.append(hourlystaff_day)\n",
    "    \n",
    "    hourlystaff_week = np.array(hourlystaff_week).sum(axis = 1)\n",
    "    return hourlystaff_week"
   ]
  },
  {
   "cell_type": "code",
   "execution_count": 4,
   "metadata": {},
   "outputs": [],
   "source": [
    "#obj function formulation\n",
    "\n",
    "\"\"\"\n",
    "the cost is calculated as hours understaffed + hours overstaffed\n",
    "\"\"\"\n",
    "\n",
    "def cost(hourlystaff, hourlystaff_needed):\n",
    "    errors = hourlystaff - hourlystaff_needed\n",
    "    overstaff = abs(errors[errors > 0].sum())\n",
    "    understaff = abs(errors[errors < 0].sum())\n",
    "    \n",
    "    overstaff_cost = 1\n",
    "    understaff_cost = 1\n",
    "    \n",
    "    cost = overstaff_cost * overstaff + understaff_cost * understaff\n",
    "    return cost\n"
   ]
  },
  {
   "cell_type": "markdown",
   "metadata": {},
   "source": [
    "# Code for the Genetic Algorithm"
   ]
  },
  {
   "cell_type": "code",
   "execution_count": 5,
   "metadata": {},
   "outputs": [],
   "source": [
    "\"\"\"\n",
    "generate an entirely random staff planning for a certain number of days\n",
    "start time is random between 0 and 23; duration is random between 0 and 10\n",
    "\"\"\"\n",
    "\n",
    "def generate_random_staff_planning(n_days, n_staff):\n",
    "    period_planning = []\n",
    "    for day in range(n_days):\n",
    "        day_planning = []\n",
    "        for employee_id in range(n_staff):\n",
    "            start_time = np.random.randint(0, 23)\n",
    "            duration = np.random.randint(0, 10)\n",
    "            employee = [employee_id, start_time, duration]\n",
    "            day_planning.append(employee)\n",
    "        \n",
    "        period_planning.append(day_planning)\n",
    "        \n",
    "    return period_planning"
   ]
  },
  {
   "cell_type": "markdown",
   "metadata": {},
   "source": [
    "# Define Genetics"
   ]
  },
  {
   "cell_type": "code",
   "execution_count": 6,
   "metadata": {},
   "outputs": [],
   "source": [
    "#Step 1 = Create Generation \n",
    "\n",
    "\"\"\"\n",
    "create a parent generation of n parent plannings\n",
    "\"\"\"\n",
    "\n",
    "def create_parent_generation(n_parents, n_days, n_staff):\n",
    "    parents = []\n",
    "    for i in range(n_parents):\n",
    "        parent = generate_random_staff_planning(n_days = n_days, n_staff = n_staff) #generate data sendiri\n",
    "        parents.append(parent)\n",
    "    return parents"
   ]
  },
  {
   "cell_type": "code",
   "execution_count": 7,
   "metadata": {},
   "outputs": [],
   "source": [
    "#Step 2 = Cross Over/Combination\n",
    "\n",
    "\"\"\"\n",
    "for each iteration, select randomly two parents and make a random combination of these two parents \n",
    "by applying a randomly generated yes/no mask to the two selected parents\n",
    "\"\"\"\n",
    "\n",
    "def random_combine(parents, n_offspring):\n",
    "    n_parents = len(parents)\n",
    "    n_periods = len(parents[0])\n",
    "    n_employees = len(parents[0][0])\n",
    "    \n",
    "    offspring = []\n",
    "    for i in range(n_offspring):\n",
    "        random_dad = parents[np.random.randint(low = 0, high = n_parents - 1)]\n",
    "        random_mom = parents[np.random.randint(low = 0, high = n_parents - 1)]\n",
    "        \n",
    "        dad_mask = np.random.randint(0, 2, size = np.array(random_dad).shape)\n",
    "        mom_mask = np.logical_not(dad_mask)\n",
    "        \n",
    "        child = np.add(np.multiply(random_dad, dad_mask), np.multiply(random_mom, mom_mask))\n",
    "        \n",
    "        offspring.append(child)\n",
    "    return offspring\n"
   ]
  },
  {
   "cell_type": "code",
   "execution_count": 8,
   "metadata": {},
   "outputs": [],
   "source": [
    "#Step 3 = Mutation\n",
    "\n",
    "def mutate_parent(parent, n_mutations):\n",
    "    size1 = parent.shape[0]\n",
    "    size2 = parent.shape[1]\n",
    "    \n",
    "    for i in range(n_mutations):\n",
    "        rand1 = np.random.randint(0, size1)\n",
    "        rand2 = np.random.randint(0, size2)\n",
    "        rand3 = np.random.randint(1, 2)\n",
    "        \n",
    "        parent[rand1, rand2, rand3] = np.random.randint(0, 10)\n",
    "        \n",
    "    return parent\n",
    "\n",
    "def mutate_gen(parent_gen, n_mutations):\n",
    "    mutated_parent_gen = []\n",
    "    for parent in parent_gen:\n",
    "        mutated_parent_gen.append(mutate_parent(parent, n_mutations))\n",
    "    return mutated_parent_gen\n"
   ]
  },
  {
   "cell_type": "code",
   "execution_count": 9,
   "metadata": {},
   "outputs": [],
   "source": [
    "#Step 4 = Selection - Feasibility\n",
    "\n",
    "def is_acceptable(parent):\n",
    "    return np.logical_not((np.array(parent)[:, :, 2:] > 10).any())\n",
    "\n",
    "def select_acceptable(parent_gen):\n",
    "    parent_gen = [parent for parent in parent_gen if is_acceptable(parent)]\n",
    "    return parent_gen\n"
   ]
  },
  {
   "cell_type": "code",
   "execution_count": 10,
   "metadata": {},
   "outputs": [],
   "source": [
    "#Step 5 = Selection - Cost (inverse fitness)\n",
    "def select_best(parent_gen, hourlystaff_needed, n_best):\n",
    "    costs = []\n",
    "    for idx, parent_staff_planning in enumerate(parent_gen):\n",
    "        parent_hourly_planning = staffplanning_to_hourlyplanning(parent_staff_planning)\n",
    "        parent_cost = cost(parent_hourly_planning, hourlystaff_needed)\n",
    "        costs.append([idx, parent_cost])\n",
    "        \n",
    "    print('generations best is: {}, generations worst is: {}'.format(pd.DataFrame(costs)[1].min(), pd.DataFrame(costs)[1].max()))\n",
    "    \n",
    "    costs_tmp = pd.DataFrame(costs).sort_values(by = 1, ascending = True).reset_index(drop=True)\n",
    "    selected_parents_idx = list(costs_tmp.iloc[:n_best, 0])\n",
    "    selected_parents = [parent for idx, parent in enumerate(parent_gen) if idx in selected_parents_idx]\n",
    "    \n",
    "    return selected_parents"
   ]
  },
  {
   "cell_type": "code",
   "execution_count": 11,
   "metadata": {},
   "outputs": [],
   "source": [
    "#The iteration - complete algorithm\n",
    "\n",
    "\"\"\"\n",
    "the overall function\n",
    "\"\"\"\n",
    "\n",
    "def gen_algo(hourlystaff_needed, n_iterations):\n",
    "    \n",
    "    generation_size = 500\n",
    "    \n",
    "    parent_gen = create_parent_generation (n_parents = generation_size, n_days = 5, n_staff = 11)\n",
    "    for it in range(n_iterations):\n",
    "        parent_gen = select_acceptable(parent_gen)\n",
    "        #print(\"select accept: \", parent_gen)\n",
    "        parent_gen = select_best(parent_gen, hourlystaff_needed, n_best = 100)\n",
    "        #print(\"select best: \", parent_gen)\n",
    "        parent_gen = random_combine(parent_gen, n_offspring = generation_size)\n",
    "        parent_gen = mutate_gen(parent_gen, n_mutations = 1)\n",
    "    \n",
    "    best_child = select_best(parent_gen, hourlystaff_needed, n_best = 1)\n",
    "    return best_child"
   ]
  },
  {
   "cell_type": "code",
   "execution_count": 12,
   "metadata": {},
   "outputs": [
    {
     "name": "stdout",
     "output_type": "stream",
     "text": [
      "generations best is: 171, generations worst is: 260\n",
      "generations best is: 165, generations worst is: 234\n",
      "generations best is: 155, generations worst is: 238\n",
      "generations best is: 146, generations worst is: 225\n",
      "generations best is: 145, generations worst is: 218\n",
      "generations best is: 139, generations worst is: 214\n",
      "generations best is: 137, generations worst is: 211\n",
      "generations best is: 130, generations worst is: 211\n",
      "generations best is: 130, generations worst is: 195\n",
      "generations best is: 123, generations worst is: 199\n",
      "generations best is: 119, generations worst is: 190\n",
      "generations best is: 117, generations worst is: 179\n",
      "generations best is: 116, generations worst is: 185\n",
      "generations best is: 109, generations worst is: 186\n",
      "generations best is: 103, generations worst is: 179\n",
      "generations best is: 102, generations worst is: 175\n",
      "generations best is: 101, generations worst is: 181\n",
      "generations best is: 94, generations worst is: 174\n",
      "generations best is: 96, generations worst is: 167\n",
      "generations best is: 97, generations worst is: 170\n",
      "generations best is: 93, generations worst is: 164\n",
      "generations best is: 87, generations worst is: 168\n",
      "generations best is: 83, generations worst is: 158\n",
      "generations best is: 84, generations worst is: 164\n",
      "generations best is: 91, generations worst is: 166\n",
      "generations best is: 86, generations worst is: 162\n",
      "generations best is: 80, generations worst is: 154\n",
      "generations best is: 82, generations worst is: 147\n",
      "generations best is: 78, generations worst is: 154\n",
      "generations best is: 77, generations worst is: 147\n",
      "generations best is: 73, generations worst is: 144\n",
      "generations best is: 76, generations worst is: 139\n",
      "generations best is: 73, generations worst is: 135\n",
      "generations best is: 65, generations worst is: 136\n",
      "generations best is: 70, generations worst is: 135\n",
      "generations best is: 67, generations worst is: 126\n",
      "generations best is: 61, generations worst is: 133\n",
      "generations best is: 62, generations worst is: 127\n",
      "generations best is: 64, generations worst is: 125\n",
      "generations best is: 63, generations worst is: 132\n",
      "generations best is: 56, generations worst is: 113\n",
      "generations best is: 59, generations worst is: 114\n",
      "generations best is: 56, generations worst is: 113\n",
      "generations best is: 53, generations worst is: 113\n",
      "generations best is: 49, generations worst is: 103\n",
      "generations best is: 51, generations worst is: 100\n",
      "generations best is: 50, generations worst is: 103\n",
      "generations best is: 46, generations worst is: 99\n",
      "generations best is: 50, generations worst is: 97\n",
      "generations best is: 43, generations worst is: 95\n",
      "generations best is: 46, generations worst is: 94\n"
     ]
    }
   ],
   "source": [
    "best_planning = gen_algo(hourlystaff_needed, n_iterations = 50)"
   ]
  },
  {
   "cell_type": "code",
   "execution_count": 13,
   "metadata": {},
   "outputs": [
    {
     "name": "stdout",
     "output_type": "stream",
     "text": [
      "0\n",
      "1\n",
      "2\n",
      "3\n",
      "4\n",
      "5\n",
      "6\n",
      "7\n",
      "8\n",
      "9\n",
      "10\n",
      "11\n",
      "12\n",
      "13\n",
      "14\n",
      "15\n",
      "16\n",
      "17\n",
      "18\n",
      "19\n",
      "20\n",
      "21\n",
      "22\n",
      "23\n"
     ]
    }
   ],
   "source": [
    "for time in range(0, 24):\n",
    "    print(time)"
   ]
  },
  {
   "cell_type": "code",
   "execution_count": null,
   "metadata": {},
   "outputs": [],
   "source": []
  },
  {
   "cell_type": "code",
   "execution_count": null,
   "metadata": {},
   "outputs": [],
   "source": []
  },
  {
   "cell_type": "code",
   "execution_count": null,
   "metadata": {},
   "outputs": [],
   "source": []
  }
 ],
 "metadata": {
  "kernelspec": {
   "display_name": "Python 3",
   "language": "python",
   "name": "python3"
  },
  "language_info": {
   "codemirror_mode": {
    "name": "ipython",
    "version": 3
   },
   "file_extension": ".py",
   "mimetype": "text/x-python",
   "name": "python",
   "nbconvert_exporter": "python",
   "pygments_lexer": "ipython3",
   "version": "3.8.3"
  }
 },
 "nbformat": 4,
 "nbformat_minor": 4
}
